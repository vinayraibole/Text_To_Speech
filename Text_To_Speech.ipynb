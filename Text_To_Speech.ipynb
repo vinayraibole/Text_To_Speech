{
 "cells": [
  {
   "cell_type": "markdown",
   "id": "05397cb6",
   "metadata": {},
   "source": [
    "# Installing Libraries needed for the project"
   ]
  },
  {
   "cell_type": "code",
   "execution_count": 1,
   "id": "5f5878b2",
   "metadata": {},
   "outputs": [],
   "source": [
    "# pip install tkinter\n",
    "# pip install PyObjC\n",
    "# pip install playsound\n",
    "# pip install gTTS"
   ]
  },
  {
   "cell_type": "markdown",
   "id": "ddca8541",
   "metadata": {},
   "source": [
    "# Importing required libraries"
   ]
  },
  {
   "cell_type": "code",
   "execution_count": 2,
   "id": "d13ab059",
   "metadata": {},
   "outputs": [],
   "source": [
    "from tkinter import *\n",
    "from gtts import gTTS\n",
    "from playsound import playsound"
   ]
  },
  {
   "cell_type": "markdown",
   "id": "de767873",
   "metadata": {},
   "source": [
    "# Initializing Tkinter window"
   ]
  },
  {
   "cell_type": "code",
   "execution_count": 3,
   "id": "75d48ab9",
   "metadata": {},
   "outputs": [
    {
     "data": {
      "text/plain": [
       "''"
      ]
     },
     "execution_count": 3,
     "metadata": {},
     "output_type": "execute_result"
    }
   ],
   "source": [
    "root = Tk()\n",
    "root.geometry('350x300')\n",
    "root.configure(bg='ghost white')\n",
    "root.title('TEXT TO SPEECH')"
   ]
  },
  {
   "cell_type": "markdown",
   "id": "f97270e4",
   "metadata": {},
   "source": [
    "# Creating Header Labels"
   ]
  },
  {
   "cell_type": "code",
   "execution_count": 4,
   "id": "cf81e892",
   "metadata": {},
   "outputs": [],
   "source": [
    "Label(root, text = 'Text To Speech', font = 'arial 20 bold', bg = 'white smoke').pack()\n",
    "Label(root, text = 'Python Project', font = 'arial 15 bold', bg = 'white smoke', width = '20').pack(side = 'bottom')"
   ]
  },
  {
   "cell_type": "markdown",
   "id": "8921305b",
   "metadata": {},
   "source": [
    "# Creating Entry field for User Input"
   ]
  },
  {
   "cell_type": "code",
   "execution_count": 5,
   "id": "337fe226",
   "metadata": {},
   "outputs": [],
   "source": [
    "msg = StringVar()\n",
    "Label(root, text = 'Enter Text', font = 'arial 15 bold', bg= 'white smoke').place(x=20,y=60)\n",
    "entry_field = Entry(root, textvariable = msg, width = '30').place(x=20,y=100)"
   ]
  },
  {
   "cell_type": "markdown",
   "id": "cf034fc9",
   "metadata": {},
   "source": [
    "# Using Google's Text to Speech to Save speech output and playing it using the playsound library"
   ]
  },
  {
   "cell_type": "code",
   "execution_count": 6,
   "id": "b352b29d",
   "metadata": {},
   "outputs": [],
   "source": [
    "def Text_to_speech():\n",
    "    message = msg.get()\n",
    "    speech = gTTS(text = message)\n",
    "    speech.save('./Assets/Converted.mp3')\n",
    "    playsound('./Assets/Converted.mp3')"
   ]
  },
  {
   "cell_type": "markdown",
   "id": "83e6db70",
   "metadata": {},
   "source": [
    "# Defining the Exit Function"
   ]
  },
  {
   "cell_type": "code",
   "execution_count": 7,
   "id": "c1ee5b36",
   "metadata": {},
   "outputs": [],
   "source": [
    "def Exit():\n",
    "    root.destroy()\n",
    "    exit()"
   ]
  },
  {
   "cell_type": "markdown",
   "id": "2b900b3f",
   "metadata": {},
   "source": [
    "# Defining the Reset Function"
   ]
  },
  {
   "cell_type": "code",
   "execution_count": 8,
   "id": "6516338f",
   "metadata": {},
   "outputs": [],
   "source": [
    "def Reset():\n",
    "    msg.set('')"
   ]
  },
  {
   "cell_type": "markdown",
   "id": "e3355585",
   "metadata": {},
   "source": [
    "# Defining PLAY, EXIT & RESET button and the functions they will use"
   ]
  },
  {
   "cell_type": "code",
   "execution_count": 9,
   "id": "4ee6ddf8",
   "metadata": {},
   "outputs": [],
   "source": [
    "Button(root, text = 'PLAY', font = 'arial 15 bold', command = Text_to_speech, width = '4').place(x=25, y=140)\n",
    "Button(root, text = 'EXIT', font = 'arial 15 bold', command = Exit, bg= 'OrangeRed1', width = '4').place(x=100, y=140)\n",
    "Button(root, text = 'RESET', font = 'arial 15 bold', command = Reset, width = '6').place(x=175, y=140)"
   ]
  },
  {
   "cell_type": "code",
   "execution_count": 10,
   "id": "7ac17081",
   "metadata": {},
   "outputs": [],
   "source": [
    "root.mainloop()"
   ]
  },
  {
   "cell_type": "code",
   "execution_count": null,
   "id": "cb87e257",
   "metadata": {},
   "outputs": [],
   "source": []
  }
 ],
 "metadata": {
  "kernelspec": {
   "display_name": "Python 3 (ipykernel)",
   "language": "python",
   "name": "python3"
  },
  "language_info": {
   "codemirror_mode": {
    "name": "ipython",
    "version": 3
   },
   "file_extension": ".py",
   "mimetype": "text/x-python",
   "name": "python",
   "nbconvert_exporter": "python",
   "pygments_lexer": "ipython3",
   "version": "3.9.7"
  }
 },
 "nbformat": 4,
 "nbformat_minor": 5
}
